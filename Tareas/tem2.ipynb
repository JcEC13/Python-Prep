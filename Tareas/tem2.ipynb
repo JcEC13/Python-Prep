{
 "cells": [
  {
   "cell_type": "markdown",
   "metadata": {},
   "source": [
    "1. Crear una variable que contenga un elemento del conjunto de números enteros y luego imprimir por pantalla si es mayor o menor a cero"
   ]
  },
  {
   "cell_type": "code",
   "execution_count": 5,
   "metadata": {},
   "outputs": [
    {
     "name": "stdout",
     "output_type": "stream",
     "text": [
      "1 Es mayor a cero\n",
      "-2 Es menor a cero\n",
      "4 Es mayor a cero\n",
      "-1 Es menor a cero\n",
      "-5 Es menor a cero\n"
     ]
    }
   ],
   "source": [
    "list=[1,-2,4,-1,-5]\n",
    "for n in list:\n",
    "    if n<0:\n",
    "        print(str(n)+\" Es menor a cero\")\n",
    "    else:\n",
    "        print(str(n)+\" Es mayor a cero\")"
   ]
  },
  {
   "cell_type": "markdown",
   "metadata": {},
   "source": [
    "2. Crear dos variables y un condicional que informe si son del mismo tipo de dato"
   ]
  },
  {
   "cell_type": "code",
   "execution_count": 10,
   "metadata": {},
   "outputs": [
    {
     "name": "stdout",
     "output_type": "stream",
     "text": [
      "Son el mismo tipo de dato\n"
     ]
    }
   ],
   "source": [
    "var1=12.02\n",
    "var2=12.4\n",
    "if type(var1)==type(var2):\n",
    "    print(\"Son el mismo tipo de dato\")\n",
    "else:\n",
    "    print(\"No son el mismo tipo de dato\")"
   ]
  },
  {
   "cell_type": "markdown",
   "metadata": {},
   "source": [
    "3. Para los valores enteros del 1 al 20, imprimir por pantalla si es par o impar"
   ]
  },
  {
   "cell_type": "code",
   "execution_count": 13,
   "metadata": {},
   "outputs": [
    {
     "name": "stdout",
     "output_type": "stream",
     "text": [
      "1 No es par\n",
      "2 Es par\n",
      "3 No es par\n",
      "4 Es par\n",
      "5 No es par\n",
      "6 Es par\n",
      "7 No es par\n",
      "8 Es par\n",
      "9 No es par\n",
      "10 Es par\n",
      "11 No es par\n",
      "12 Es par\n",
      "13 No es par\n",
      "14 Es par\n",
      "15 No es par\n",
      "16 Es par\n",
      "17 No es par\n",
      "18 Es par\n",
      "19 No es par\n",
      "20 Es par\n"
     ]
    }
   ],
   "source": [
    "for n in range(1,21):\n",
    "    if(n%2==0):\n",
    "        print(str(n)+\" Es par\")\n",
    "    else:\n",
    "        print(str(n)+\" No es par\")"
   ]
  },
  {
   "cell_type": "markdown",
   "metadata": {},
   "source": [
    "4. En un ciclo for mostrar para los valores entre 0 y 5 el resultado de elevarlo a la potencia igual a 3"
   ]
  },
  {
   "cell_type": "code",
   "execution_count": 15,
   "metadata": {},
   "outputs": [
    {
     "name": "stdout",
     "output_type": "stream",
     "text": [
      "0\n",
      "1\n",
      "8\n",
      "27\n",
      "64\n",
      "125\n"
     ]
    }
   ],
   "source": [
    "for n in range (0,6):\n",
    "    print(str(n**3))"
   ]
  },
  {
   "cell_type": "markdown",
   "metadata": {},
   "source": [
    "6. Utilizar un ciclo while para realizar el factoreo de un número guardado en una variable, sólo si la variable contiene un número entero mayor a 0"
   ]
  },
  {
   "cell_type": "code",
   "execution_count": 35,
   "metadata": {},
   "outputs": [
    {
     "name": "stdout",
     "output_type": "stream",
     "text": [
      "No es mayor a 0\n"
     ]
    }
   ],
   "source": [
    "\n",
    "total=1\n",
    "n=1\n",
    "try:\n",
    "    x=int(input(\"Ingrese un numero entero\"))\n",
    "    if(x>0):\n",
    "        while(n!=x+1):\n",
    "            total=total*n\n",
    "            n=n+1\n",
    "        print(total)\n",
    "    else:\n",
    "        print(\"No es mayor a 0\")\n",
    "except ValueError:\n",
    "    print(\"No es un numero entero\")\n",
    "\n"
   ]
  },
  {
   "cell_type": "markdown",
   "metadata": {},
   "source": [
    "9. Imprimir los números primos existentes entre 0 y 30"
   ]
  },
  {
   "cell_type": "code",
   "execution_count": 22,
   "metadata": {},
   "outputs": [
    {
     "name": "stdout",
     "output_type": "stream",
     "text": [
      "[2, 3, 5, 7, 11, 13, 17, 19, 23, 29, 31, 37, 41, 43, 47, 53, 59, 61, 67, 71, 73, 79, 83, 89, 97, 101, 103, 107, 109, 113, 127, 131, 137, 139, 149, 151, 157, 163, 167, 173, 179, 181, 191, 193, 197, 199, 211, 223, 227, 229, 233, 239, 241, 251, 257, 263, 269, 271, 277, 281, 283, 293, 307, 311, 313, 317, 331, 337, 347, 349, 353, 359, 367, 373, 379, 383, 389, 397, 401, 409, 419, 421, 431, 433, 439, 443, 449, 457, 461, 463, 467, 479, 487, 491, 499, 503, 509, 521, 523, 541, 547, 557, 563, 569, 571, 577, 587, 593, 599, 601, 607, 613, 617, 619, 631, 641, 643, 647, 653, 659, 661, 673, 677, 683, 691, 701, 709, 719, 727, 733, 739, 743, 751, 757, 761, 769, 773, 787, 797, 809, 811, 821, 823, 827, 829, 839, 853, 857, 859, 863, 877, 881, 883, 887, 907, 911, 919, 929, 937, 941, 947, 953, 967, 971, 977, 983, 991, 997]\n"
     ]
    }
   ],
   "source": [
    "listprimo=[]\n",
    "\n",
    "def is_prime(n):\n",
    "  for i in range(2,n):\n",
    "    if (n%i) == 0:\n",
    "      return False\n",
    "  return True\n",
    "\n",
    "for n in range(2,1000):\n",
    "    filtre=is_prime(n)\n",
    "    if(filtre):\n",
    "        listprimo.append(n)\n",
    "            #if n not in listprimo:\n",
    "                \n",
    "    \n",
    "print(listprimo)"
   ]
  }
 ],
 "metadata": {
  "kernelspec": {
   "display_name": "Python 3.10.5 64-bit",
   "language": "python",
   "name": "python3"
  },
  "language_info": {
   "codemirror_mode": {
    "name": "ipython",
    "version": 3
   },
   "file_extension": ".py",
   "mimetype": "text/x-python",
   "name": "python",
   "nbconvert_exporter": "python",
   "pygments_lexer": "ipython3",
   "version": "3.10.5"
  },
  "orig_nbformat": 4,
  "vscode": {
   "interpreter": {
    "hash": "107d7b120a5b68773a87d4067e673630b35702e55ebab3138143d08b1c4d7cbc"
   }
  }
 },
 "nbformat": 4,
 "nbformat_minor": 2
}
