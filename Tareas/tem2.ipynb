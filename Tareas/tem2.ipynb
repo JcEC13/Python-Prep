{
 "cells": [
  {
   "cell_type": "markdown",
   "metadata": {},
   "source": [
    "1. Crear una variable que contenga un elemento del conjunto de números enteros y luego imprimir por pantalla si es mayor o menor a cero"
   ]
  },
  {
   "cell_type": "code",
   "execution_count": 5,
   "metadata": {},
   "outputs": [
    {
     "name": "stdout",
     "output_type": "stream",
     "text": [
      "1 Es mayor a cero\n",
      "-2 Es menor a cero\n",
      "4 Es mayor a cero\n",
      "-1 Es menor a cero\n",
      "-5 Es menor a cero\n"
     ]
    }
   ],
   "source": [
    "list=[1,-2,4,-1,-5]\n",
    "for n in list:\n",
    "    if n<0:\n",
    "        print(str(n)+\" Es menor a cero\")\n",
    "    else:\n",
    "        print(str(n)+\" Es mayor a cero\")"
   ]
  },
  {
   "cell_type": "markdown",
   "metadata": {},
   "source": [
    "2. Crear dos variables y un condicional que informe si son del mismo tipo de dato"
   ]
  },
  {
   "cell_type": "code",
   "execution_count": 10,
   "metadata": {},
   "outputs": [
    {
     "name": "stdout",
     "output_type": "stream",
     "text": [
      "Son el mismo tipo de dato\n"
     ]
    }
   ],
   "source": [
    "var1=12.02\n",
    "var2=12.4\n",
    "if type(var1)==type(var2):\n",
    "    print(\"Son el mismo tipo de dato\")\n",
    "else:\n",
    "    print(\"No son el mismo tipo de dato\")"
   ]
  },
  {
   "cell_type": "markdown",
   "metadata": {},
   "source": [
    "3. Para los valores enteros del 1 al 20, imprimir por pantalla si es par o impar"
   ]
  },
  {
   "cell_type": "code",
   "execution_count": 13,
   "metadata": {},
   "outputs": [
    {
     "name": "stdout",
     "output_type": "stream",
     "text": [
      "1 No es par\n",
      "2 Es par\n",
      "3 No es par\n",
      "4 Es par\n",
      "5 No es par\n",
      "6 Es par\n",
      "7 No es par\n",
      "8 Es par\n",
      "9 No es par\n",
      "10 Es par\n",
      "11 No es par\n",
      "12 Es par\n",
      "13 No es par\n",
      "14 Es par\n",
      "15 No es par\n",
      "16 Es par\n",
      "17 No es par\n",
      "18 Es par\n",
      "19 No es par\n",
      "20 Es par\n"
     ]
    }
   ],
   "source": [
    "for n in range(1,21):\n",
    "    if(n%2==0):\n",
    "        print(str(n)+\" Es par\")\n",
    "    else:\n",
    "        print(str(n)+\" No es par\")"
   ]
  },
  {
   "cell_type": "markdown",
   "metadata": {},
   "source": [
    "4. En un ciclo for mostrar para los valores entre 0 y 5 el resultado de elevarlo a la potencia igual a 3"
   ]
  },
  {
   "cell_type": "code",
   "execution_count": 15,
   "metadata": {},
   "outputs": [
    {
     "name": "stdout",
     "output_type": "stream",
     "text": [
      "0\n",
      "1\n",
      "8\n",
      "27\n",
      "64\n",
      "125\n"
     ]
    }
   ],
   "source": [
    "for n in range (0,6):\n",
    "    print(str(n**3))"
   ]
  },
  {
   "cell_type": "markdown",
   "metadata": {},
   "source": [
    "6. Utilizar un ciclo while para realizar el factoreo de un número guardado en una variable, sólo si la variable contiene un número entero mayor a 0"
   ]
  },
  {
   "cell_type": "code",
   "execution_count": 35,
   "metadata": {},
   "outputs": [
    {
     "name": "stdout",
     "output_type": "stream",
     "text": [
      "No es mayor a 0\n"
     ]
    }
   ],
   "source": [
    "\n",
    "total=1\n",
    "n=1\n",
    "try:\n",
    "    x=int(input(\"Ingrese un numero entero\"))\n",
    "    if(x>0):\n",
    "        while(n!=x+1):\n",
    "            total=total*n\n",
    "            n=n+1\n",
    "        print(total)\n",
    "    else:\n",
    "        print(\"No es mayor a 0\")\n",
    "except ValueError:\n",
    "    print(\"No es un numero entero\")\n",
    "\n"
   ]
  },
  {
   "cell_type": "markdown",
   "metadata": {},
   "source": [
    "9. Imprimir los números primos existentes entre 0 y 30"
   ]
  },
  {
   "cell_type": "code",
   "execution_count": 2,
   "metadata": {},
   "outputs": [
    {
     "name": "stdout",
     "output_type": "stream",
     "text": [
      "[2, 3, 5, 7, 11, 13, 17, 19, 23, 29, 31, 37, 41, 43, 47]\n"
     ]
    }
   ],
   "source": [
    "listprimo=[]\n",
    "\n",
    "def is_prime(n):\n",
    "  for i in range(2,n):\n",
    "    if (n%i) == 0:\n",
    "        return False\n",
    "  return True\n",
    "\n",
    "for n in range(2,50):\n",
    "    filtre=is_prime(n)\n",
    "    if(filtre):\n",
    "        listprimo.append(n)\n",
    "            #if n not in listprimo:\n",
    "                \n",
    "    \n",
    "print(listprimo)"
   ]
  },
  {
   "cell_type": "code",
   "execution_count": null,
   "metadata": {},
   "outputs": [],
   "source": [
    "cantidad_ciclos = 0\n",
    "for nro in range(0, 100):\n",
    "    es_primo = True\n",
    "    for n in range(2, nro):\n",
    "        cantidad_ciclos += 1\n",
    "        if (nro % n == 0):\n",
    "            es_primo = False\n",
    "            break\n",
    "    if (es_primo):\n",
    "        print(nro)\n",
    "print('Cantidad ciclos:',cantidad_ciclos)"
   ]
  },
  {
   "cell_type": "markdown",
   "metadata": {},
   "source": [
    "13. Aplicando continue, armar un ciclo while que solo imprima los valores divisibles por 12, dentro del rango de números de 100 a 300"
   ]
  },
  {
   "cell_type": "code",
   "execution_count": null,
   "metadata": {},
   "outputs": [],
   "source": [
    "n=99\n",
    "while(n<=300):\n",
    "    n+=1\n",
    "    if(n%12!=0):\n",
    "        continue\n",
    "    print(n,'Es divisible por 12')"
   ]
  },
  {
   "cell_type": "markdown",
   "metadata": {},
   "source": [
    "14. Utilizar la función input() que permite hacer ingresos por teclado, para encontrar números primos y dar la opción al usario de buscar el siguiente"
   ]
  },
  {
   "cell_type": "code",
   "execution_count": 3,
   "metadata": {},
   "outputs": [
    {
     "name": "stdout",
     "output_type": "stream",
     "text": [
      "No es numero primo\n",
      "Es numero primo\n",
      "Es numero primo\n",
      "Es numero primo\n",
      "No es numero primo\n",
      "Gracias\n"
     ]
    }
   ],
   "source": [
    "resp='y'\n",
    "\n",
    "while (resp=='y'):\n",
    "    es_primo=True\n",
    "    nro=int(input('Ingresa numero'))\n",
    "    for n in range(2, nro):\n",
    "        if (nro % n == 0):\n",
    "            es_primo = False\n",
    "            break\n",
    "    if(es_primo):\n",
    "        print('Es numero primo')\n",
    "    else:\n",
    "        print('No es numero primo')\n",
    "    \n",
    "    resp=input('Deseas seguir ingresando numeros ingresar y/n:')\n",
    "    if(resp=='y'):\n",
    "        continue\n",
    "    else:\n",
    "        print(\"Gracias\")\n",
    "        break\n",
    "    \n",
    "\n"
   ]
  },
  {
   "cell_type": "markdown",
   "metadata": {},
   "source": [
    "15. Crear un ciclo while que encuentre dentro del rango de 100 a 300 el primer número divisible por 3 y además múltiplo de 6"
   ]
  },
  {
   "cell_type": "code",
   "execution_count": 9,
   "metadata": {},
   "outputs": [
    {
     "name": "stdout",
     "output_type": "stream",
     "text": [
      "Primero numero divisible por 3: 102\n",
      "Ultimo numero divisible por 6: 300\n"
     ]
    }
   ],
   "source": [
    "n=99\n",
    "divisible3=0\n",
    "divisible6=0\n",
    "contador=0\n",
    "encontrado=False\n",
    "\n",
    "while(n<300):\n",
    "    n+=1\n",
    "    if(encontrado==False):\n",
    "        if(n%3==0):\n",
    "            divisible3=n\n",
    "            encontrado=True\n",
    "    if(n%6==0):\n",
    "        divisible6=n\n",
    "    \n",
    "    contador+=1\n",
    "    \n",
    "\n",
    "print(\"Primero numero divisible por 3:\",divisible3)\n",
    "print(\"Ultimo numero divisible por 6:\",divisible6)   "
   ]
  }
 ],
 "metadata": {
  "kernelspec": {
   "display_name": "Python 3.10.5 64-bit",
   "language": "python",
   "name": "python3"
  },
  "language_info": {
   "codemirror_mode": {
    "name": "ipython",
    "version": 3
   },
   "file_extension": ".py",
   "mimetype": "text/x-python",
   "name": "python",
   "nbconvert_exporter": "python",
   "pygments_lexer": "ipython3",
   "version": "3.10.5"
  },
  "orig_nbformat": 4,
  "vscode": {
   "interpreter": {
    "hash": "107d7b120a5b68773a87d4067e673630b35702e55ebab3138143d08b1c4d7cbc"
   }
  }
 },
 "nbformat": 4,
 "nbformat_minor": 2
}
