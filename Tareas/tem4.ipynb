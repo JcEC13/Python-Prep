{
 "cells": [
  {
   "cell_type": "code",
   "execution_count": null,
   "metadata": {},
   "outputs": [],
   "source": []
  },
  {
   "cell_type": "markdown",
   "metadata": {},
   "source": [
    "2. Imprimir por pantalla el segundo elemento de la lista"
   ]
  },
  {
   "cell_type": "code",
   "execution_count": 9,
   "metadata": {},
   "outputs": [
    {
     "name": "stdout",
     "output_type": "stream",
     "text": [
      "['chile', 'argentina', 'colombia']\n",
      "chile\n",
      "<class 'list'>\n",
      "['argentina', 'colombia', 'bolivia']\n",
      "['peru', 'chile', 'argentina', 'colombia']\n"
     ]
    }
   ],
   "source": [
    "paises=['peru','chile','argentina','colombia','bolivia']\n",
    "\n",
    "print(paises[1:4])\n",
    "print(paises[1])\n",
    "print(type(paises))\n",
    "print(paises[2:])\n",
    "print(paises[:4])\n"
   ]
  },
  {
   "cell_type": "markdown",
   "metadata": {},
   "source": [
    "Agregar un elemento a una lista"
   ]
  },
  {
   "cell_type": "code",
   "execution_count": 11,
   "metadata": {},
   "outputs": [
    {
     "name": "stdout",
     "output_type": "stream",
     "text": [
      "['peru', 'chile', 'argentina', 'colombia', 'bolivia', 'ecuador', 'peru']\n"
     ]
    }
   ],
   "source": [
    "paises.append('peru')\n",
    "print(paises)"
   ]
  },
  {
   "cell_type": "markdown",
   "metadata": {},
   "source": [
    "Agregar un elemento en un lugar definido"
   ]
  },
  {
   "cell_type": "code",
   "execution_count": 12,
   "metadata": {},
   "outputs": [
    {
     "name": "stdout",
     "output_type": "stream",
     "text": [
      "['peru', 'chile', 'brasil', 'argentina', 'colombia', 'bolivia', 'ecuador', 'peru']\n"
     ]
    }
   ],
   "source": [
    "paises.insert(2,'brasil')\n",
    "print(paises)"
   ]
  },
  {
   "cell_type": "markdown",
   "metadata": {},
   "source": [
    "Concatenar otra lista a la actual"
   ]
  },
  {
   "cell_type": "code",
   "execution_count": 13,
   "metadata": {},
   "outputs": [
    {
     "name": "stdout",
     "output_type": "stream",
     "text": [
      "['peru', 'chile', 'brasil', 'argentina', 'colombia', 'bolivia', 'ecuador', 'peru', 'paraguay', 'uruguay']\n"
     ]
    }
   ],
   "source": [
    "paises2=['paraguay','uruguay']\n",
    "paises.extend(paises2)\n",
    "print(paises)"
   ]
  },
  {
   "cell_type": "markdown",
   "metadata": {},
   "source": [
    "#Buscar un elemento en una lista"
   ]
  },
  {
   "cell_type": "code",
   "execution_count": 17,
   "metadata": {},
   "outputs": [
    {
     "name": "stdout",
     "output_type": "stream",
     "text": [
      "['peru', 'chile', 'brasil', 'argentina', 'colombia', 'bolivia', 'ecuador', 'peru', 'paraguay', 'uruguay']\n",
      "0\n"
     ]
    }
   ],
   "source": [
    "print(paises)\n",
    "print(paises.index('peru'))"
   ]
  },
  {
   "cell_type": "markdown",
   "metadata": {},
   "source": [
    "Eliminar un elemento"
   ]
  },
  {
   "cell_type": "code",
   "execution_count": 20,
   "metadata": {},
   "outputs": [
    {
     "name": "stdout",
     "output_type": "stream",
     "text": [
      "['chile', 'brasil', 'argentina', 'colombia', 'bolivia', 'ecuador', 'peru', 'paraguay', 'uruguay']\n",
      "6\n"
     ]
    }
   ],
   "source": [
    "print(paises)\n",
    "#paises.remove('peru')\n",
    "print(paises.index('peru'))\n"
   ]
  },
  {
   "cell_type": "markdown",
   "metadata": {},
   "source": [
    "Imprimir el ultimo elemento"
   ]
  },
  {
   "cell_type": "code",
   "execution_count": 21,
   "metadata": {},
   "outputs": [
    {
     "name": "stdout",
     "output_type": "stream",
     "text": [
      "uruguay\n"
     ]
    }
   ],
   "source": [
    "ultimo=paises.pop()\n",
    "print(ultimo)"
   ]
  }
 ],
 "metadata": {
  "kernelspec": {
   "display_name": "Python 3.10.5 64-bit",
   "language": "python",
   "name": "python3"
  },
  "language_info": {
   "codemirror_mode": {
    "name": "ipython",
    "version": 3
   },
   "file_extension": ".py",
   "mimetype": "text/x-python",
   "name": "python",
   "nbconvert_exporter": "python",
   "pygments_lexer": "ipython3",
   "version": "3.10.5"
  },
  "orig_nbformat": 4,
  "vscode": {
   "interpreter": {
    "hash": "107d7b120a5b68773a87d4067e673630b35702e55ebab3138143d08b1c4d7cbc"
   }
  }
 },
 "nbformat": 4,
 "nbformat_minor": 2
}
