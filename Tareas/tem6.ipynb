{
 "cells": [
  {
   "cell_type": "markdown",
   "metadata": {},
   "source": [
    "1. Crear una función que reciba un número como parámetro y devuelva si True si es primo y False si no lo es"
   ]
  },
  {
   "cell_type": "code",
   "execution_count": 103,
   "metadata": {},
   "outputs": [
    {
     "name": "stdout",
     "output_type": "stream",
     "text": [
      "False\n"
     ]
    }
   ],
   "source": [
    "def is_prime(n):\n",
    "  is_prime= True\n",
    "  for i in range(2,n):\n",
    "    if (n%i) == 0:\n",
    "        is_prime= False\n",
    "        break\n",
    "  return is_prime\n",
    "\n",
    "num=int(input(\"Ingresar numero\"))\n",
    "\n",
    "print(is_prime(num))"
   ]
  },
  {
   "cell_type": "code",
   "execution_count": null,
   "metadata": {},
   "outputs": [],
   "source": []
  },
  {
   "cell_type": "markdown",
   "metadata": {},
   "source": [
    "2. Utilizando la función del punto 1, realizar otra función que reciba de parámetro una lista de números y devuelva sólo aquellos que son primos en otra lista"
   ]
  },
  {
   "cell_type": "code",
   "execution_count": 105,
   "metadata": {},
   "outputs": [
    {
     "name": "stdout",
     "output_type": "stream",
     "text": [
      "[2, 5, 7, 13, 17, 29, 3, 5]\n"
     ]
    }
   ],
   "source": [
    "def is_prime_list(list):\n",
    "  new=[]\n",
    "  for i in list:\n",
    "    if(is_prime(i)):\n",
    "      new.append(i)\n",
    "  return new\n",
    "\n",
    "num=[2,5,6,7,8,13,17,24,29,3,5,6]\n",
    "\n",
    "print(is_prime_list(num))\n"
   ]
  },
  {
   "cell_type": "markdown",
   "metadata": {},
   "source": [
    "3. Crear una función que al recibir una lista de números, devuelva el que más se repite y cuántas veces lo hace. Si hay más de un \"más repetido\", que devuelva cualquiera"
   ]
  },
  {
   "cell_type": "code",
   "execution_count": 1,
   "metadata": {},
   "outputs": [
    {
     "name": "stdout",
     "output_type": "stream",
     "text": [
      "('Elemento 4', 5)\n",
      "('Elemento 6', 5)\n"
     ]
    }
   ],
   "source": [
    "numb=[1,2,2,3,4,4,4,4,4,2,2,6,6,6,6,6]\n",
    "\n",
    "def imprimir_mayor(diccionario,maximo):\n",
    "    for x in diccionario.items():\n",
    "        if (maximo==x[1]):\n",
    "            print(x)\n",
    "    \n",
    "\n",
    "def contar_elementos(lista):\n",
    "    max=0\n",
    "    dicc={}\n",
    "    uni=list(set(lista))\n",
    "    for count,x in enumerate(uni):\n",
    "        count=0\n",
    "        for i in lista:\n",
    "            if(x==i):\n",
    "                count+=1\n",
    "        \n",
    "        if(count>max):\n",
    "            max=count   \n",
    "        dicc['Elemento '+str(x)]=count\n",
    "    \n",
    "    imprimir_mayor(dicc,max)\n",
    "\n",
    "contar_elementos(numb)"
   ]
  },
  {
   "cell_type": "code",
   "execution_count": 3,
   "metadata": {},
   "outputs": [
    {
     "name": "stdout",
     "output_type": "stream",
     "text": [
      "El numero 3 es el elemento de la lista que mas se repite con -> 3\n",
      "3\n"
     ]
    }
   ],
   "source": [
    "def max_rep(listas):\n",
    "    maximo=0\n",
    "    num_max=0\n",
    "    for num in listas:\n",
    "        num_rep=listas.count(num)\n",
    "        if num_rep>maximo:\n",
    "            maximo=num_rep\n",
    "            num_max=num\n",
    "    return num_max,maximo\n",
    "\n",
    "lista=[1,1,2,2,3,3,3,5,4,5]\n",
    "nro, maximo = max_rep(lista)\n",
    "print(f'El numero {nro} es el elemento de la lista que mas se repite con -> {maximo}')\n",
    "print(lista.count(3))"
   ]
  },
  {
   "cell_type": "markdown",
   "metadata": {},
   "source": [
    "4. A la función del punto 3, agregar un parámetro más, que permita elegir si se requiere el menor o el mayor de los mas repetidos.\n"
   ]
  },
  {
   "cell_type": "code",
   "execution_count": 89,
   "metadata": {},
   "outputs": [
    {
     "name": "stdout",
     "output_type": "stream",
     "text": [
      "('Elemento 1', 1)\n",
      "('Elemento 3', 1)\n",
      "None\n"
     ]
    }
   ],
   "source": [
    "numb=[1,2,2,3,4,4,4,4,4,2,2,6,6,6,6,6]\n",
    "\n",
    "def iden_min_max(diccionario):\n",
    "    max=0\n",
    "    min=200\n",
    "    for x in diccionario.items():\n",
    "        if(x[1]>max):\n",
    "            max=x[1]\n",
    "        \n",
    "        if(x[1]<min):\n",
    "            min=x[1]\n",
    "    return max,min\n",
    "\n",
    "\n",
    "def imprimir_mayor(diccionario,orden):\n",
    "    \n",
    "    max=iden_min_max(diccionario)[0]\n",
    "    min=iden_min_max(diccionario)[1]\n",
    "    for n in diccionario.items():\n",
    "        if (orden=='maximo'):\n",
    "            if(n[1]==max):\n",
    "                print(n)\n",
    "        if(orden=='minimo'):\n",
    "            if(n[1]==min):\n",
    "                print(n)\n",
    "    \n",
    "\n",
    "def contar_elementos(lista,orden):\n",
    "    dicc={}\n",
    "    uni=list(set(lista))\n",
    "    for count,x in enumerate(uni):\n",
    "        count=0\n",
    "        for i in lista:\n",
    "            if(x==i):\n",
    "                count+=1\n",
    "         \n",
    "        dicc['Elemento '+str(x)]=count\n",
    "    \n",
    "    imprimir_mayor(dicc,orden)\n",
    "\n",
    "print(contar_elementos(numb,'minimo'))"
   ]
  },
  {
   "cell_type": "markdown",
   "metadata": {},
   "source": [
    "5. Crear una función que convierta entre grados Celsius, Farenheit y Kelvin\n",
    "Fórmula 1 : (°C × 9/5) + 32 = °F\n",
    "Fórmula 2 : °C + 273.15 = °K\n",
    "Debe recibir 3 parámetros: el valor, la medida de orígen y la medida de destino"
   ]
  },
  {
   "cell_type": "code",
   "execution_count": 102,
   "metadata": {},
   "outputs": [
    {
     "name": "stdout",
     "output_type": "stream",
     "text": [
      "-449.77\n"
     ]
    }
   ],
   "source": [
    "def convert(valor,origen,destino):\n",
    "    if(origen=='C'):\n",
    "        if(destino=='F'):\n",
    "            valor = (valor*(9/5))+32\n",
    "        if(destino=='K'):\n",
    "            valor=valor+273.15\n",
    "        if(destino=='C'):\n",
    "            pass\n",
    "    if(origen=='F'):\n",
    "        if(destino=='F'):\n",
    "            pass\n",
    "        if(destino=='K'):\n",
    "            valor= ((valor-32)*(5/9))+273.15\n",
    "        if(destino=='C'):\n",
    "            valor = (valor-32)*(5/9)\n",
    "    if(origen=='K'):\n",
    "        if(destino=='F'):\n",
    "            valor= ((valor-273.15)*(9/5))+32\n",
    "        if(destino=='K'):\n",
    "            pass\n",
    "        if(destino=='C'):\n",
    "            valor = valor-273.15\n",
    "    \n",
    "    return valor\n",
    "\n",
    "print(convert(5.5,'K','F'))"
   ]
  },
  {
   "cell_type": "markdown",
   "metadata": {},
   "source": [
    "7. Armar una función que devuelva el factorial de un número. Tener en cuenta que el usuario puede equivocarse y enviar de parámetro un número no entero o negativo"
   ]
  },
  {
   "cell_type": "code",
   "execution_count": 5,
   "metadata": {},
   "outputs": [
    {
     "name": "stdout",
     "output_type": "stream",
     "text": [
      "24\n"
     ]
    }
   ],
   "source": [
    "def factorial(numero):\n",
    "    if(type(numero)!=int):\n",
    "        return 'El numero debe ser un entero'\n",
    "\n",
    "    if(numero<0):\n",
    "        return 'El numero debe ser poditivo'\n",
    "    \n",
    "    if(numero>1):\n",
    "        numero=numero*factorial(numero-1)\n",
    "\n",
    "    return numero \n",
    "\n",
    "print(factorial(4))"
   ]
  }
 ],
 "metadata": {
  "kernelspec": {
   "display_name": "Python 3.10.5 64-bit",
   "language": "python",
   "name": "python3"
  },
  "language_info": {
   "codemirror_mode": {
    "name": "ipython",
    "version": 3
   },
   "file_extension": ".py",
   "mimetype": "text/x-python",
   "name": "python",
   "nbconvert_exporter": "python",
   "pygments_lexer": "ipython3",
   "version": "3.10.5"
  },
  "orig_nbformat": 4,
  "vscode": {
   "interpreter": {
    "hash": "107d7b120a5b68773a87d4067e673630b35702e55ebab3138143d08b1c4d7cbc"
   }
  }
 },
 "nbformat": 4,
 "nbformat_minor": 2
}
