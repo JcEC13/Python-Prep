{
 "cells": [
  {
   "cell_type": "markdown",
   "metadata": {},
   "source": [
    "1. Crear la clase vehículo que contenga los atributos:\n",
    "Color\n",
    "Si es moto, auto, camioneta ó camión\n",
    "Cilindrada del motor"
   ]
  },
  {
   "cell_type": "code",
   "execution_count": 1,
   "metadata": {},
   "outputs": [],
   "source": [
    "class Vehiculo:\n",
    "    def __init__(self,color,tipo,cilindros):\n",
    "        self.color=color\n",
    "        self.tipo=tipo\n",
    "        self.cilindros=cilindros\n",
    "    \n",
    "    def acelerar(self):\n",
    "        pass\n",
    "\n",
    "    def frenar(self):\n",
    "        pass\n",
    "\n",
    "    def doblar(self):\n",
    "        pass\n",
    "\n",
    "    def estado(self,velocidad,direccion):\n",
    "        self.velocidad=velocidad\n",
    "        self.direccion=direccion\n"
   ]
  },
  {
   "cell_type": "markdown",
   "metadata": {},
   "source": [
    "2. A la clase Vehiculo creada en el punto 1, agregar los siguientes métodos:\n",
    "Acelerar\n",
    "Frenar\n",
    "Doblar\n",
    "\n",
    "3. Instanciar 3 objetos de la clase vehículo y ejecutar sus métodos, probar luego el resultado"
   ]
  },
  {
   "cell_type": "code",
   "execution_count": 2,
   "metadata": {},
   "outputs": [],
   "source": [
    "V1=Vehiculo('Rojo','moto',1)\n",
    "V2=Vehiculo('Azul','camioneta',2)\n",
    "V3=Vehiculo('Rojo','camion',4)"
   ]
  },
  {
   "cell_type": "code",
   "execution_count": 4,
   "metadata": {},
   "outputs": [
    {
     "name": "stdout",
     "output_type": "stream",
     "text": [
      "camion\n"
     ]
    }
   ],
   "source": [
    "print(V3.tipo)"
   ]
  },
  {
   "cell_type": "code",
   "execution_count": 3,
   "metadata": {},
   "outputs": [
    {
     "name": "stdout",
     "output_type": "stream",
     "text": [
      "41.0\n",
      "True\n"
     ]
    }
   ],
   "source": [
    "import modulo6 as m6\n",
    "\n",
    "valor=m6.is_prime(3)\n",
    "\n",
    "grados=m6.convert(5,'C','F')\n",
    "\n",
    "print(grados)\n",
    "print(valor)"
   ]
  }
 ],
 "metadata": {
  "kernelspec": {
   "display_name": "Python 3.10.5 64-bit",
   "language": "python",
   "name": "python3"
  },
  "language_info": {
   "codemirror_mode": {
    "name": "ipython",
    "version": 3
   },
   "file_extension": ".py",
   "mimetype": "text/x-python",
   "name": "python",
   "nbconvert_exporter": "python",
   "pygments_lexer": "ipython3",
   "version": "3.10.5"
  },
  "orig_nbformat": 4,
  "vscode": {
   "interpreter": {
    "hash": "107d7b120a5b68773a87d4067e673630b35702e55ebab3138143d08b1c4d7cbc"
   }
  }
 },
 "nbformat": 4,
 "nbformat_minor": 2
}
